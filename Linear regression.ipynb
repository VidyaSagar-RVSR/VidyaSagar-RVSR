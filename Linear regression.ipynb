{
 "cells": [
  {
   "cell_type": "code",
   "execution_count": 74,
   "id": "7072d0fd",
   "metadata": {},
   "outputs": [
    {
     "name": "stdout",
     "output_type": "stream",
     "text": [
      "Requirement already satisfied: scikit-learn in c:\\users\\dell\\anaconda3\\lib\\site-packages (0.24.2)\n",
      "Requirement already satisfied: scipy>=0.19.1 in c:\\users\\dell\\anaconda3\\lib\\site-packages (from scikit-learn) (1.7.1)\n",
      "Requirement already satisfied: threadpoolctl>=2.0.0 in c:\\users\\dell\\anaconda3\\lib\\site-packages (from scikit-learn) (2.2.0)\n",
      "Requirement already satisfied: joblib>=0.11 in c:\\users\\dell\\anaconda3\\lib\\site-packages (from scikit-learn) (1.1.0)\n",
      "Requirement already satisfied: numpy>=1.13.3 in c:\\users\\dell\\anaconda3\\lib\\site-packages (from scikit-learn) (1.20.3)\n"
     ]
    }
   ],
   "source": [
    "!pip install scikit-learn"
   ]
  },
  {
   "cell_type": "code",
   "execution_count": 75,
   "id": "c1f818c0",
   "metadata": {},
   "outputs": [],
   "source": [
    "#importing libraries\n",
    "import pandas as pd\n",
    "import numpy as np\n",
    "import matplotlib.pyplot as plt\n",
    "import seaborn as sns\n",
    "%matplotlib inline"
   ]
  },
  {
   "cell_type": "code",
   "execution_count": 76,
   "id": "155c4369",
   "metadata": {},
   "outputs": [],
   "source": [
    "#Read the dataset\n",
    "df=pd.read_csv('1000_Companies (1).csv')"
   ]
  },
  {
   "cell_type": "code",
   "execution_count": 77,
   "id": "707beaee",
   "metadata": {},
   "outputs": [
    {
     "data": {
      "text/html": [
       "<div>\n",
       "<style scoped>\n",
       "    .dataframe tbody tr th:only-of-type {\n",
       "        vertical-align: middle;\n",
       "    }\n",
       "\n",
       "    .dataframe tbody tr th {\n",
       "        vertical-align: top;\n",
       "    }\n",
       "\n",
       "    .dataframe thead th {\n",
       "        text-align: right;\n",
       "    }\n",
       "</style>\n",
       "<table border=\"1\" class=\"dataframe\">\n",
       "  <thead>\n",
       "    <tr style=\"text-align: right;\">\n",
       "      <th></th>\n",
       "      <th>R&amp;D Spend</th>\n",
       "      <th>Administration</th>\n",
       "      <th>Marketing Spend</th>\n",
       "      <th>State</th>\n",
       "      <th>Profit</th>\n",
       "    </tr>\n",
       "  </thead>\n",
       "  <tbody>\n",
       "    <tr>\n",
       "      <th>0</th>\n",
       "      <td>165349.20</td>\n",
       "      <td>136897.80</td>\n",
       "      <td>471784.10</td>\n",
       "      <td>New York</td>\n",
       "      <td>192261.83</td>\n",
       "    </tr>\n",
       "    <tr>\n",
       "      <th>1</th>\n",
       "      <td>162597.70</td>\n",
       "      <td>151377.59</td>\n",
       "      <td>443898.53</td>\n",
       "      <td>California</td>\n",
       "      <td>191792.06</td>\n",
       "    </tr>\n",
       "    <tr>\n",
       "      <th>2</th>\n",
       "      <td>153441.51</td>\n",
       "      <td>101145.55</td>\n",
       "      <td>407934.54</td>\n",
       "      <td>Florida</td>\n",
       "      <td>191050.39</td>\n",
       "    </tr>\n",
       "    <tr>\n",
       "      <th>3</th>\n",
       "      <td>144372.41</td>\n",
       "      <td>118671.85</td>\n",
       "      <td>383199.62</td>\n",
       "      <td>New York</td>\n",
       "      <td>182901.99</td>\n",
       "    </tr>\n",
       "    <tr>\n",
       "      <th>4</th>\n",
       "      <td>142107.34</td>\n",
       "      <td>91391.77</td>\n",
       "      <td>366168.42</td>\n",
       "      <td>Florida</td>\n",
       "      <td>166187.94</td>\n",
       "    </tr>\n",
       "  </tbody>\n",
       "</table>\n",
       "</div>"
      ],
      "text/plain": [
       "   R&D Spend  Administration  Marketing Spend       State     Profit\n",
       "0  165349.20       136897.80        471784.10    New York  192261.83\n",
       "1  162597.70       151377.59        443898.53  California  191792.06\n",
       "2  153441.51       101145.55        407934.54     Florida  191050.39\n",
       "3  144372.41       118671.85        383199.62    New York  182901.99\n",
       "4  142107.34        91391.77        366168.42     Florida  166187.94"
      ]
     },
     "execution_count": 77,
     "metadata": {},
     "output_type": "execute_result"
    }
   ],
   "source": [
    "df.head()"
   ]
  },
  {
   "cell_type": "code",
   "execution_count": 78,
   "id": "28436f7c",
   "metadata": {},
   "outputs": [
    {
     "data": {
      "text/html": [
       "<div>\n",
       "<style scoped>\n",
       "    .dataframe tbody tr th:only-of-type {\n",
       "        vertical-align: middle;\n",
       "    }\n",
       "\n",
       "    .dataframe tbody tr th {\n",
       "        vertical-align: top;\n",
       "    }\n",
       "\n",
       "    .dataframe thead th {\n",
       "        text-align: right;\n",
       "    }\n",
       "</style>\n",
       "<table border=\"1\" class=\"dataframe\">\n",
       "  <thead>\n",
       "    <tr style=\"text-align: right;\">\n",
       "      <th></th>\n",
       "      <th>R&amp;D Spend</th>\n",
       "      <th>Administration</th>\n",
       "      <th>Marketing Spend</th>\n",
       "      <th>State</th>\n",
       "      <th>Profit</th>\n",
       "    </tr>\n",
       "  </thead>\n",
       "  <tbody>\n",
       "    <tr>\n",
       "      <th>0</th>\n",
       "      <td>False</td>\n",
       "      <td>False</td>\n",
       "      <td>False</td>\n",
       "      <td>False</td>\n",
       "      <td>False</td>\n",
       "    </tr>\n",
       "    <tr>\n",
       "      <th>1</th>\n",
       "      <td>False</td>\n",
       "      <td>False</td>\n",
       "      <td>False</td>\n",
       "      <td>False</td>\n",
       "      <td>False</td>\n",
       "    </tr>\n",
       "    <tr>\n",
       "      <th>2</th>\n",
       "      <td>False</td>\n",
       "      <td>False</td>\n",
       "      <td>False</td>\n",
       "      <td>False</td>\n",
       "      <td>False</td>\n",
       "    </tr>\n",
       "    <tr>\n",
       "      <th>3</th>\n",
       "      <td>False</td>\n",
       "      <td>False</td>\n",
       "      <td>False</td>\n",
       "      <td>False</td>\n",
       "      <td>False</td>\n",
       "    </tr>\n",
       "    <tr>\n",
       "      <th>4</th>\n",
       "      <td>False</td>\n",
       "      <td>False</td>\n",
       "      <td>False</td>\n",
       "      <td>False</td>\n",
       "      <td>False</td>\n",
       "    </tr>\n",
       "    <tr>\n",
       "      <th>...</th>\n",
       "      <td>...</td>\n",
       "      <td>...</td>\n",
       "      <td>...</td>\n",
       "      <td>...</td>\n",
       "      <td>...</td>\n",
       "    </tr>\n",
       "    <tr>\n",
       "      <th>995</th>\n",
       "      <td>False</td>\n",
       "      <td>False</td>\n",
       "      <td>False</td>\n",
       "      <td>False</td>\n",
       "      <td>False</td>\n",
       "    </tr>\n",
       "    <tr>\n",
       "      <th>996</th>\n",
       "      <td>False</td>\n",
       "      <td>False</td>\n",
       "      <td>False</td>\n",
       "      <td>False</td>\n",
       "      <td>False</td>\n",
       "    </tr>\n",
       "    <tr>\n",
       "      <th>997</th>\n",
       "      <td>False</td>\n",
       "      <td>False</td>\n",
       "      <td>False</td>\n",
       "      <td>False</td>\n",
       "      <td>False</td>\n",
       "    </tr>\n",
       "    <tr>\n",
       "      <th>998</th>\n",
       "      <td>False</td>\n",
       "      <td>False</td>\n",
       "      <td>False</td>\n",
       "      <td>False</td>\n",
       "      <td>False</td>\n",
       "    </tr>\n",
       "    <tr>\n",
       "      <th>999</th>\n",
       "      <td>False</td>\n",
       "      <td>False</td>\n",
       "      <td>False</td>\n",
       "      <td>False</td>\n",
       "      <td>False</td>\n",
       "    </tr>\n",
       "  </tbody>\n",
       "</table>\n",
       "<p>1000 rows × 5 columns</p>\n",
       "</div>"
      ],
      "text/plain": [
       "     R&D Spend  Administration  Marketing Spend  State  Profit\n",
       "0        False           False            False  False   False\n",
       "1        False           False            False  False   False\n",
       "2        False           False            False  False   False\n",
       "3        False           False            False  False   False\n",
       "4        False           False            False  False   False\n",
       "..         ...             ...              ...    ...     ...\n",
       "995      False           False            False  False   False\n",
       "996      False           False            False  False   False\n",
       "997      False           False            False  False   False\n",
       "998      False           False            False  False   False\n",
       "999      False           False            False  False   False\n",
       "\n",
       "[1000 rows x 5 columns]"
      ]
     },
     "execution_count": 78,
     "metadata": {},
     "output_type": "execute_result"
    }
   ],
   "source": [
    "#Find any missing data are in the dataset\n",
    "df.isnull()"
   ]
  },
  {
   "cell_type": "code",
   "execution_count": 79,
   "id": "e2a573d2",
   "metadata": {},
   "outputs": [
    {
     "data": {
      "text/plain": [
       "<AxesSubplot:>"
      ]
     },
     "execution_count": 79,
     "metadata": {},
     "output_type": "execute_result"
    },
    {
     "data": {
      "image/png": "[encoded data removed]",
      "text/plain": [
       "<Figure size 432x288 with 2 Axes>"
      ]
     },
     "metadata": {
      "needs_background": "light"
     },
     "output_type": "display_data"
    }
   ],
   "source": [
    "#Data visualization\n",
    "#get heatmap to find how the features are co-related\n",
    "df.corr()\n",
    "sns.heatmap(df.corr())"
   ]
  },
  {
   "cell_type": "code",
   "execution_count": 80,
   "id": "a98719b9",
   "metadata": {},
   "outputs": [
    {
     "data": {
      "text/plain": [
       "<seaborn.axisgrid.PairGrid at 0x2d3ac6739a0>"
      ]
     },
     "execution_count": 80,
     "metadata": {},
     "output_type": "execute_result"
    },
    {
     "data": {
      "image/png": "[encoded data removed]",
      "text/plain": [
       "<Figure size 720x720 with 20 Axes>"
      ]
     },
     "metadata": {
      "needs_background": "light"
     },
     "output_type": "display_data"
    }
   ],
   "source": [
    "sns.pairplot(df)"
   ]
  },
  {
   "cell_type": "code",
   "execution_count": 81,
   "id": "1bc81f3d",
   "metadata": {},
   "outputs": [],
   "source": [
    "X=df.iloc[:,:-1].values\n",
    "Y=df.iloc[:,4].values"
   ]
  },
  {
   "cell_type": "code",
   "execution_count": 82,
   "id": "42c1d6ab",
   "metadata": {},
   "outputs": [],
   "source": [
    "#Encoding categorical data\n",
    "from sklearn.compose import ColumnTransformer\n",
    "from sklearn.preprocessing import LabelEncoder,OneHotEncoder\n",
    "labelencoder = LabelEncoder()\n",
    "X[:,3]=labelencoder.fit_transform(X[:,3])\n",
    "\n",
    "ct = ColumnTransformer(\n",
    "    [('one_hot_encoder', OneHotEncoder(categories='auto'), [0])],   # The column numbers to be transformed (here is [0] but can be [0, 1, 3])\n",
    "    remainder='passthrough'                                         # Leave the rest of the columns untouched\n",
    ")\n",
    "\n",
    "X = ct.fit_transform(X)\n",
    "\n"
   ]
  },
  {
   "cell_type": "code",
   "execution_count": 83,
   "id": "b9519101",
   "metadata": {},
   "outputs": [],
   "source": [
    "X = X[:,1:]"
   ]
  },
  {
   "cell_type": "code",
   "execution_count": 84,
   "id": "56a1dec5",
   "metadata": {},
   "outputs": [],
   "source": [
    "#spilitting the dataset into training set and test set\n",
    "from sklearn.model_selection import train_test_split\n",
    "X_train,X_test,y_train,y_test = train_test_split(X,Y,test_size=0.2,random_state=0)"
   ]
  },
  {
   "cell_type": "code",
   "execution_count": 85,
   "id": "199b0116",
   "metadata": {},
   "outputs": [
    {
     "data": {
      "text/plain": [
       "LinearRegression()"
      ]
     },
     "execution_count": 85,
     "metadata": {},
     "output_type": "execute_result"
    }
   ],
   "source": [
    "#Fittting multiple linear regression to the training dataset\n",
    "from sklearn.linear_model import LinearRegression\n",
    "regressor = LinearRegression()\n",
    "regressor.fit(X_train,y_train)"
   ]
  },
  {
   "cell_type": "code",
   "execution_count": 86,
   "id": "fd2cb06d",
   "metadata": {},
   "outputs": [
    {
     "name": "stdout",
     "output_type": "stream",
     "text": [
      "[ 81764.92907438  80280.55923467  87321.27355312 179016.70579314\n",
      "  81164.93633219 110731.82615905 177742.21159418  83596.80389165\n",
      " 169544.25700316  45707.408202    56900.56756987 151676.83772512\n",
      " 122179.20833131  48613.69259145 177261.56456425  72352.13305635\n",
      " 116494.7517225  163175.46522686 157789.97442189 188564.55478697\n",
      "  86526.61570473  77279.12439901 184799.11544623  75619.13371955\n",
      "  98328.40334732  94221.86484932  26712.07670595  52283.71521112\n",
      "  59019.2275463  229689.32148644 119249.57012553 105642.82455558\n",
      " 100842.87809011 137952.25571743  53656.25271285 102521.81799808\n",
      " 192859.79210549 174402.92199348 177888.24841768 115867.00057617\n",
      "  95664.86570593 164131.10417528 101287.80129294  42410.78078789\n",
      " 114606.82766305  47845.81848817 160222.47318368  73269.60478033\n",
      " 161649.85957413 130526.67023188 189031.76457431 177849.94818746\n",
      "  86070.44216737  75645.02383591 183053.35684271  79714.32923231\n",
      " 143332.04527361 176099.21156746  82202.78081293 105000.79500552\n",
      " 141981.25938362  47543.82071608 138429.74115497 141870.89622549\n",
      "  91022.38937719 111420.43037812 128348.09126552 155978.48107036\n",
      "  54442.54375189 177497.772343   119685.01875519 168064.82424624\n",
      "  87136.17814019 160370.87043829  75795.68872425  75140.58102912\n",
      " 118852.5549362   92016.99658705 135357.31056003 140347.55812434\n",
      " 174082.50738885 136513.7925155  106157.27687884 153450.92814038\n",
      " 142800.37884165 110297.44486443  59864.6363824   86321.46325101\n",
      " 136568.90759273 151998.05336674 162271.87268493  47737.45669733\n",
      "  92372.9090513  110396.59820741  51929.6710199  107295.07573954\n",
      " 148178.43315586 155987.82263776 173039.85907756 113290.73859569\n",
      " 119232.75536067 139118.07915815 161848.70120547 120537.76770081\n",
      "  85170.58620312 101847.22608903  94144.99804872 184558.90491605\n",
      " 182082.73036135 109925.65176025 163915.31473328 166693.48693157\n",
      " 162365.28799237 180632.65808257 169296.03841439  40954.56869828\n",
      " 176634.74766503  98051.89388049  74057.2291723  141559.82310611\n",
      " 144827.62484633 163774.12450027 172464.5537237  118892.72353845\n",
      " 160727.8501133  103997.78039322 175071.64273693  50162.51896415\n",
      " 157147.37322184 156202.9441307  180337.46560312 160506.32271792\n",
      "  96922.50242223  83586.26202556 138169.11237019 170981.91916809\n",
      " 119688.62228705 177362.47828418  97180.19566633  77140.73653659\n",
      " 178490.91048464  94828.13044814  67117.13726504  88609.20499466\n",
      "  57036.68778171  65380.54608512  66993.02797065 176608.59133277\n",
      "  85422.00659058 136681.67803307  88653.24330254  54515.53965171\n",
      " 172169.49433218  50307.31274166 171761.13615761 165217.52453643\n",
      " 167852.63825395  98992.453266   188047.96791792  68001.91366639\n",
      "  83372.60708933 131842.09135018  61037.66684471  68497.81606496\n",
      "  56336.07273577 188387.19866312 179676.21809715 163350.81985072\n",
      " 144247.38249182 158673.51373569  54099.70939267  86416.88001632\n",
      " 156794.93116149 171088.5456664   69270.36089401 114117.33129121\n",
      "  74952.94925506 153467.47668935 117519.38493021 125745.80604072\n",
      " 177768.67682011 270957.47485018 143249.97278711 154357.72491035\n",
      "  81506.03544943  63935.54381066  64076.60099786  59168.6920538\n",
      " 121721.20698342  87986.12463097 169375.3083639  120654.6699736\n",
      "  63527.18571824 158775.41315347 113066.54179337 164615.9298045\n",
      " 171368.79175303 144054.27889812 144287.55105195 109114.8065767 ]\n"
     ]
    }
   ],
   "source": [
    "y_pred=regressor.predict(X_test)\n",
    "print(y_pred)"
   ]
  },
  {
   "cell_type": "code",
   "execution_count": 87,
   "id": "69c3ba76",
   "metadata": {},
   "outputs": [
    {
     "name": "stdout",
     "output_type": "stream",
     "text": [
      "[ 6.90895143e+04  0.00000000e+00  5.29521199e+03  5.29090809e+03\n",
      " -9.19761355e+04  5.26181706e+03  0.00000000e+00  1.07687126e+04\n",
      "  1.07678358e+04  5.18458644e+03  7.96258223e+03  7.96162583e+03\n",
      "  5.17829001e+03  1.07368320e+04  5.14585157e+03  0.00000000e+00\n",
      "  1.06829539e+04  5.10719639e+03  5.09420505e+03  7.86925192e+03\n",
      "  1.06445378e+04  1.06299525e+04  0.00000000e+00  1.06065999e+04\n",
      "  5.00533798e+03  5.00087474e+03  4.98501418e+03  0.00000000e+00\n",
      "  1.05210007e+04  7.70283538e+03  7.69733601e+03  7.68928612e+03\n",
      "  4.90579097e+03  4.90061036e+03  4.84163140e+03  7.61779402e+03\n",
      "  4.83613194e+03  7.60663577e+03  7.59691221e+03  4.81413440e+03\n",
      "  4.77715298e+03  4.77547923e+03  4.76336459e+03  4.75770578e+03\n",
      "  1.02887508e+04  0.00000000e+00  1.02293733e+04  1.02281777e+04\n",
      "  4.66844024e+03  1.02222002e+04  0.00000000e+00  1.02092088e+04\n",
      "  1.02021154e+04  1.01950219e+04  4.62468419e+03  7.38530502e+03\n",
      "  7.37805220e+03  0.00000000e+00  0.00000000e+00  1.00983442e+04\n",
      "  1.00942794e+04  0.00000000e+00  7.27308551e+03  0.00000000e+00\n",
      "  1.00419156e+04  0.00000000e+00  1.00252580e+04  1.00007897e+04\n",
      "  7.21729453e+03  7.21131696e+03  9.98987060e+03  9.96245331e+03\n",
      "  9.95033874e+03  7.16883609e+03  9.94683181e+03  9.93025399e+03\n",
      "  9.92244326e+03  0.00000000e+00  0.00000000e+00  7.11432029e+03\n",
      "  4.33074550e+03  0.00000000e+00  7.06753561e+03  9.84011166e+03\n",
      "  0.00000000e+00  7.02680821e+03  7.01867869e+03  4.18600774e+03\n",
      "  4.16145975e+03  2.62689687e+04  6.91251645e+03  4.08024402e+03\n",
      "  0.00000000e+00  4.05410199e+03  9.58682069e+03  6.79949989e+03\n",
      "  6.79280498e+03  4.00269452e+03  6.77750224e+03  6.74291187e+03\n",
      "  9.50177928e+03  6.71278477e+03  9.48352765e+03  0.00000000e+00\n",
      "  6.68536749e+03  6.68249819e+03  3.89446006e+03  6.66528274e+03\n",
      "  6.66313078e+03  3.88194694e+03  3.87859952e+03  3.85843506e+03\n",
      "  3.85452971e+03  6.62025145e+03  6.61283918e+03  6.60622399e+03\n",
      "  6.60120281e+03  3.80838260e+03  0.00000000e+00  2.49458835e+04\n",
      "  9.33544246e+03  3.74788922e+03  9.25685691e+03  0.00000000e+00\n",
      "  3.68946809e+03  6.45144389e+03  3.64738576e+03  6.41733168e+03\n",
      "  7.84943850e+03  9.16719286e+03  0.00000000e+00  0.00000000e+00\n",
      "  9.12845799e+03  6.34185444e+03  9.11969083e+03  9.11634339e+03\n",
      "  3.55541036e+03  9.10072190e+03  0.00000000e+00  0.00000000e+00\n",
      "  9.07864462e+03  1.17160538e+04  3.43633650e+03  0.00000000e+00\n",
      "  8.97391704e+03  6.19289257e+03  0.00000000e+00  0.00000000e+00\n",
      "  8.94371014e+03  8.91135140e+03  6.10043894e+03  3.30753910e+03\n",
      "  8.83531626e+03  0.00000000e+00  6.03986596e+03  3.21779525e+03\n",
      "  0.00000000e+00  3.19268936e+03  5.96781585e+03  5.96056304e+03\n",
      "  1.76952141e+04  3.16814135e+03  0.00000000e+00  8.70125854e+03\n",
      " -1.95138195e+04  5.88197753e+03 -1.02958321e+04  5.86747186e+03\n",
      "  3.08230294e+03  8.63638164e+03  0.00000000e+00  5.85224882e+03\n",
      "  3.05783456e+03  3.04332898e+03  8.59214740e+03  8.58274263e+03\n",
      "  8.57788079e+03  5.79566088e+03  5.72400933e+03  0.00000000e+00\n",
      "  2.92792134e+03  5.65889329e+03  5.65435036e+03  2.85475549e+03\n",
      "  8.40253776e+03  2.84104687e+03  8.39034349e+03  8.38492374e+03\n",
      "  5.59584951e+03  8.34084893e+03  2.77051109e+03  8.31988737e+03\n",
      "  5.52890035e+03  5.50411320e+03  2.72412488e+03  5.50036722e+03\n",
      "  8.26433554e+03  0.00000000e+00  2.67526795e+03  0.00000000e+00\n",
      "  2.65159665e+03  0.00000000e+00  5.36049129e+03  2.58034363e+03\n",
      "  5.34813758e+03  8.10804114e+03  2.52997231e+03  5.30199044e+03\n",
      "  2.52192249e+03  5.30063552e+03  2.49872939e+03  8.05639463e+03\n",
      "  8.05496005e+03  5.27281977e+03  0.00000000e+00  5.23567891e+03\n",
      "  5.23249085e+03  2.42787485e+03  2.42277396e+03  2.39384234e+03\n",
      "  2.35550595e+03  7.89236919e+03  0.00000000e+00  2.06607680e+04\n",
      "  7.86152468e+03  0.00000000e+00  7.83083971e+03  2.26759538e+03\n",
      "  2.26137868e+03  4.98621356e+03  0.00000000e+00  0.00000000e+00\n",
      "  7.74125528e+03  0.00000000e+00  4.94389210e+03  0.00000000e+00\n",
      "  4.87431279e+03  7.63788266e+03  0.00000000e+00  7.61875430e+03\n",
      "  2.05678513e+03  7.61397222e+03  0.00000000e+00  4.80680573e+03\n",
      "  7.54670422e+03  0.00000000e+00  4.74455899e+03  1.95899159e+03\n",
      "  4.73770466e+03  1.94536261e+03  7.49338402e+03  0.00000000e+00\n",
      "  7.47361809e+03  7.44564287e+03  1.88383312e+03  4.62756198e+04\n",
      "  1.87315319e+03  1.85139467e+03  0.00000000e+00  4.62548505e+03\n",
      "  7.39909723e+03  1.82947685e+03  1.82939714e+03  7.38068626e+03\n",
      "  0.00000000e+00  1.78301094e+03  7.31365739e+03  0.00000000e+00\n",
      "  4.52872762e+03  7.28799356e+03  1.60236953e+04  1.71167816e+03\n",
      "  4.48114588e+03  1.69605668e+03  0.00000000e+00  4.47014705e+03\n",
      "  1.68776772e+03  4.45524291e+03  4.44583822e+03  0.00000000e+00\n",
      "  1.61117475e+03  7.16852114e+03  0.00000000e+00  0.00000000e+00\n",
      "  4.35768838e+03  4.33967589e+03  0.00000000e+00  7.10053589e+03\n",
      "  0.00000000e+00  4.29902819e+03  7.07829917e+03  0.00000000e+00\n",
      "  0.00000000e+00  4.27440050e+03  4.24355606e+03  1.45719161e+03\n",
      "  1.45424270e+03  0.00000000e+00  4.21534175e+03  4.19836535e+03\n",
      "  4.19677130e+03  1.41534839e+03  4.18282355e+03  1.39805322e+03\n",
      "  6.94519785e+03  6.91610681e+03  1.34959478e+03  1.33811775e+03\n",
      "  4.11635263e+03  0.00000000e+00  4.07897263e+03  6.85720756e+03\n",
      "  0.00000000e+00  0.00000000e+00  0.00000000e+00  6.75032801e+03\n",
      "  0.00000000e+00  6.72904769e+03  6.72872892e+03  3.94674812e+03\n",
      "  6.72131669e+03  6.71908501e+03  3.93845915e+03  6.70242738e+03\n",
      "  1.10586793e+03  1.09741954e+03  3.86951739e+03  3.86672789e+03\n",
      "  0.00000000e+00  1.07924771e+03  6.63707230e+03  3.83317362e+03\n",
      "  3.77005009e+03  5.14656045e+02  9.56029258e+02  0.00000000e+00\n",
      "  6.49584143e+03  8.94659205e+02  3.66500368e+03  6.44188356e+03\n",
      "  8.75291826e+02  0.00000000e+00  6.42068300e+03  6.41008274e+03\n",
      "  6.39422220e+03  3.60761865e+03  6.37126816e+03  6.34895173e+03\n",
      "  7.86584169e+02  7.82200569e+02  7.80287748e+02  3.55676915e+03\n",
      "  3.53102560e+03  6.30790556e+03  3.50711525e+03  6.27124294e+03\n",
      "  6.26414951e+03  3.48200923e+03  7.01781872e+02  3.48009645e+03\n",
      "  3.47061193e+03  6.20540961e+03  0.00000000e+00  6.15607437e+03\n",
      "  0.00000000e+00  3.36189929e+03  6.13200459e+03  6.12586767e+03\n",
      "  0.00000000e+00  3.32428022e+03  6.10076158e+03  6.09350885e+03\n",
      "  6.09231329e+03  0.00000000e+00  0.00000000e+00  3.26123646e+03\n",
      "  3.23294243e+03  0.00000000e+00  3.21923371e+03  0.00000000e+00\n",
      "  4.24899313e+02  4.04814540e+02  3.92699909e+02  3.16121112e+03\n",
      "  3.78512949e+02  5.93235262e+03  0.00000000e+00  5.91768752e+03\n",
      "  3.12247635e+03  3.12104172e+03  5.35470020e+04  3.11426710e+03\n",
      "  3.11235432e+03  3.21845330e+02  3.19454270e+02  2.81277346e+02\n",
      "  2.72908682e+02  0.00000000e+00  5.80937337e+03  0.00000000e+00\n",
      "  2.42303360e+02  1.63464585e+04  5.75605310e+03  0.00000000e+00\n",
      "  5.74306186e+03  1.72803791e+02  5.73054875e+03  6.33972143e+03\n",
      "  0.00000000e+00  2.91931756e+03  1.27852184e+02 -1.74892926e+04\n",
      "  1.23627932e+02  1.16215774e+02  2.88743689e+03  2.88129981e+03\n",
      "  7.55680852e+01  5.63036406e+03  6.14609272e+01  0.00000000e+00\n",
      "  2.83515279e+03  3.98618798e+01  2.81666206e+03  2.80885138e+03\n",
      " -2.77171023e+04  0.00000000e+00  2.76198696e+03  0.00000000e+00\n",
      "  2.72811387e+03  2.70133421e+03  5.47996746e+03 -8.17624984e+01\n",
      " -1.00970505e+02  0.00000000e+00  2.63119700e+03  2.61174987e+03\n",
      "  5.37794976e+03  2.58688304e+03  0.00000000e+00  2.56735622e+03\n",
      " -2.28572449e+02  5.33044768e+03 -2.33673246e+02  0.00000000e+00\n",
      "  0.00000000e+00  2.51531115e+03 -2.84443089e+02  0.00000000e+00\n",
      "  2.48175692e+03 -3.17200358e+02  5.22986464e+03  0.00000000e+00\n",
      "  0.00000000e+00  5.20005628e+03  0.00000000e+00  5.17383457e+03\n",
      "  5.15757540e+03 -4.13240545e+02 -4.28622823e+02 -4.32289088e+02\n",
      "  5.11047186e+03  5.09915429e+03 -4.65205891e+02  5.07205590e+03\n",
      " -3.94334175e+04 -5.28010541e+02  0.00000000e+00  4.99474552e+03\n",
      " -5.93365698e+02  9.79217653e+03 -6.17276145e+02  4.93975146e+03\n",
      "  0.00000000e+00 -6.67328592e+02 -1.92704774e+04  4.86403516e+03\n",
      "  2.07591735e+03  4.85295666e+03  4.84179849e+03  4.81533768e+03\n",
      "  2.03240038e+03  4.38078275e+04  4.80003498e+03 -2.61963802e+03\n",
      "  4.72718787e+03 -8.45461220e+02  4.70582798e+03 -6.51178664e+04\n",
      "  0.00000000e+00  4.68478673e+03  4.67968590e+03 -8.81167300e+02\n",
      "  0.00000000e+00  4.65458003e+03  0.00000000e+00 -9.19583438e+02\n",
      "  4.60659977e+03 -9.75932367e+02 -9.81989692e+02  0.00000000e+00\n",
      "  0.00000000e+00  4.54530936e+03  0.00000000e+00 -1.05443825e+03\n",
      "  0.00000000e+00  4.49262673e+03  4.48617089e+03 -1.13039367e+03\n",
      " -1.18052583e+03  4.35474336e+03  1.55897421e+03 -1.22523831e+03\n",
      "  4.29855388e+03  0.00000000e+00  0.00000000e+00  0.00000000e+00\n",
      "  4.27320886e+03  0.00000000e+00  0.00000000e+00  1.47720049e+03\n",
      "  4.23837928e+03  0.00000000e+00  4.22008633e+03  1.41264236e+03\n",
      "  1.41184547e+03  4.19031944e+03  0.00000000e+00  1.37111798e+03\n",
      "  1.33573056e+03  1.33349900e+03  4.09101153e+03  7.28640982e+04\n",
      "  4.05514581e+03  1.24973278e+03 -1.55400656e+03  3.99042835e+03\n",
      "  1.20844743e+03  0.00000000e+00  3.97496627e+03  3.93248539e+03\n",
      "  0.00000000e+00  1.11288553e+03  3.88617891e+03 -1.72066211e+03\n",
      "  1.04091520e+03  1.02513430e+03 -1.75764353e+03  1.00361495e+03\n",
      "  0.00000000e+00 -1.78689396e+03 -1.79406708e+03  9.80262357e+02\n",
      " -1.81622408e+03  3.73434769e+03  3.73028298e+03  0.00000000e+00\n",
      " -1.86763143e+03 -1.88134007e+03 -1.88165898e+03 -1.88899146e+03\n",
      " -1.90509110e+03 -1.49319701e+04  3.63527888e+03 -1.76204942e+03\n",
      "  8.30264425e+02 -1.95410746e+03  3.59287774e+03  3.57877067e+03\n",
      "  3.56617781e+03  3.55972199e+03 -2.00671037e+03 -2.06266081e+03\n",
      "  3.49325100e+03  7.12545381e+02 -2.06808039e+03  1.06202525e+04\n",
      "  0.00000000e+00  3.44630697e+03  6.51334772e+02  6.36271235e+02\n",
      "  3.40812994e+03 -3.67081886e+04 -2.16834478e+03  3.35799775e+03\n",
      "  3.34165899e+03  5.53700547e+02  0.00000000e+00  3.29869996e+03\n",
      " -2.30869893e+03  3.24298863e+03 -2.35564305e+03  3.87443437e+02\n",
      "  3.47672428e+02 -2.43383011e+03  3.11618379e+03  2.80563922e+02\n",
      " -2.51950915e+03  2.58885105e+02  2.33380767e+02 -2.56007709e+03\n",
      "  2.01497047e+05  2.95717950e+03  0.00000000e+00 -2.61841850e+03\n",
      "  2.93326906e+03 -2.62670746e+03  4.52052867e+04 -2.67556440e+03\n",
      "  2.87620285e+03  2.87150050e+03  7.52531010e+01  5.35743820e+01\n",
      "  3.75656202e+04  2.81132598e+03  2.80861610e+03  4.55803464e+00\n",
      " -2.78061090e+03 -2.06275785e+01  2.70109894e+03 -9.76191890e+01\n",
      " -1.02162175e+02  0.00000000e+00  0.00000000e+00  2.64411248e+03\n",
      " -1.48229621e+02  0.00000000e+00 -1.97086423e+02 -2.98217566e+03\n",
      " -2.06889761e+02  2.57166393e+03  0.00000000e+00  0.00000000e+00\n",
      " -2.23148904e+02  0.00000000e+00  0.00000000e+00 -2.73440377e+02\n",
      "  0.00000000e+00 -3.08690335e+03 -3.11695073e+03 -3.38396999e+02\n",
      "  2.43792495e+03  2.41616652e+03  2.40987008e+03  0.00000000e+00\n",
      "  0.00000000e+00  2.38372800e+03  2.38348892e+03  2.37488127e+03\n",
      "  0.00000000e+00 -3.19489866e+03  0.00000000e+00  2.35479642e+03\n",
      " -3.21354886e+03  2.33949371e+03 -4.46312703e+02  2.32753849e+03\n",
      "  0.00000000e+00 -4.84170894e+02 -4.85844644e+02  2.25716223e+03\n",
      " -3.30831374e+03 -3.32712335e+03 -3.32752180e+03 -5.55184794e+02\n",
      "  0.00000000e+00 -3.34784560e+03  0.00000000e+00 -3.36083695e+03\n",
      " -5.82602102e+02 -3.36785075e+03 -3.38036378e+03  2.15386922e+03\n",
      "  2.15339108e+03 -6.33610982e+02 -6.91713349e+02  0.00000000e+00\n",
      " -7.05342235e+02 -3.48692462e+03 -3.49473533e+03 -3.51601561e+03\n",
      " -3.53793345e+03  2.01654379e+03  2.01638428e+03 -7.64640070e+02\n",
      "  1.99159720e+03  0.00000000e+00  1.93492949e+03 -8.47768604e+02\n",
      " -8.63310433e+02 -3.65134853e+03  0.00000000e+00 -3.67286796e+03\n",
      " -3.70108215e+03 -9.39106434e+02 -5.00687318e+03  1.82358673e+03\n",
      " -9.61024361e+02  0.00000000e+00 -1.03666086e+03  0.00000000e+00\n",
      " -1.07603339e+03 -3.91093595e+03 -3.92926737e+03  1.62752122e+03\n",
      "  1.60743658e+03  0.00000000e+00 -3.99685411e+03 -1.22850220e+03\n",
      "  1.54598676e+03 -1.25018102e+03  0.00000000e+00  0.00000000e+00\n",
      "  1.48756561e+03 -1.29608895e+03 -4.09369128e+03 -4.13505623e+03\n",
      "  0.00000000e+00  0.00000000e+00  0.00000000e+00 -1.41619891e+03\n",
      "  1.35550043e+03 -1.43373322e+03  0.00000000e+00 -4.22687231e+03\n",
      " -4.23069798e+03  1.32266345e+03  1.32027241e+03  0.00000000e+00\n",
      " -1.51789789e+03 -4.29828472e+03  1.25946024e+03 -1.58628162e+03\n",
      " -4.38460134e+03 -1.61887956e+03  1.15600789e+03 -4.40572211e+03\n",
      " -4.41703986e+03  1.14102406e+03  0.00000000e+00  1.12596042e+03\n",
      " -4.43417554e+03  1.36014393e+04 -1.67140277e+03  0.00000000e+00\n",
      "  1.08730521e+03 -4.48502505e+03 -1.75397340e+03 -1.76274060e+03\n",
      "  0.00000000e+00  9.83215233e+02  0.00000000e+00  9.76440512e+02\n",
      " -1.82140083e+03 -1.82466857e+03 -1.83941337e+03  9.26627278e+02\n",
      " -4.63837055e+03  8.84863693e+02  0.00000000e+00  0.00000000e+00\n",
      " -4.71113790e+03 -4.72683905e+03  0.00000000e+00  8.23732704e+02\n",
      "  0.00000000e+00 -4.74517042e+03  0.00000000e+00 -1.99236022e+03\n",
      "  7.70651647e+02  0.00000000e+00 -2.02583478e+03  0.00000000e+00\n",
      "  7.32793538e+02  0.00000000e+00  3.32377429e+04 -4.86376604e+03\n",
      "  6.76125696e+02 -4.88855318e+03 -2.11063710e+03  6.55961344e+02\n",
      " -4.90760186e+03 -2.13502580e+03  0.00000000e+00  6.35079568e+02\n",
      " -4.96068292e+03 -2.20436595e+03 -2.13209694e+04 -2.24110825e+03\n",
      " -2.24310083e+03 -2.25943961e+03 -5.04795600e+03 -2.27490170e+03\n",
      " -5.05728105e+03 -2.28127775e+03 -5.06549031e+03 -2.31363656e+03\n",
      "  0.00000000e+00 -5.09753021e+03  4.60134953e+02 -5.11275317e+03\n",
      " -2.33635152e+03  0.00000000e+00 -5.12701973e+03 -5.13084531e+03\n",
      " -2.36145742e+03 -2.38449110e+03 -5.18456417e+03 -5.18831015e+03\n",
      " -5.19197641e+03 -2.43589846e+03 -5.21700261e+03  3.16433383e+02\n",
      " -5.25342613e+03  3.04637567e+02 -5.26171509e+03  0.00000000e+00\n",
      " -2.50460115e+03 -5.28953087e+03 -2.51201330e+03  2.56258909e+02\n",
      " -2.54317651e+03  6.31218484e+04  0.00000000e+00  0.00000000e+00\n",
      " -2.58486040e+03  0.00000000e+00 -5.36891344e+03  1.86201388e+02\n",
      "  1.60936081e+02 -2.62056660e+03  0.00000000e+00 -5.41633581e+03\n",
      " -5.42988502e+03 -2.65842479e+03  0.00000000e+00  0.00000000e+00\n",
      "  0.00000000e+00 -5.47659004e+03  7.79669533e+01 -5.51500607e+03\n",
      "  4.03477943e+01 -5.55796520e+03 -5.55924033e+03  0.00000000e+00\n",
      " -2.79646759e+03  0.00000000e+00 -4.49326351e+01 -7.80884288e+01\n",
      " -8.89278577e+01  0.00000000e+00 -2.87043049e+03 -9.21158826e+01\n",
      " -5.65217220e+03  0.00000000e+00  0.00000000e+00 -5.73004043e+03\n",
      " -1.73969206e+02  0.00000000e+00 -5.74988613e+03 -2.11428960e+02\n",
      "  0.00000000e+00 -5.78192602e+03 -3.00839353e+03 -2.29122589e+02\n",
      "  0.00000000e+00 -3.03628898e+03  0.00000000e+00 -2.70009393e+02\n",
      " -2.70965782e+02 -3.05812724e+03  0.00000000e+00 -2.80928485e+02\n",
      " -3.07319078e+03 -2.93521402e+02 -3.07390805e+03 -5.85851904e+03\n",
      " -3.02368127e+02 -5.86314170e+03 -3.09000779e+03  0.00000000e+00\n",
      " -3.65969875e+02  1.56208882e+04 -5.93694519e+03 -3.77367112e+02\n",
      " -3.85018513e+02  0.00000000e+00  0.00000000e+00 -3.22908671e+03\n",
      " -4.66154475e+02 -6.03155085e+03 -4.79305298e+02 -3.26790129e+03\n",
      "  0.00000000e+00 -3.27985647e+03 -3.29898482e+03  4.17547424e+01\n",
      " -5.56376464e+02 -6.12639539e+03 -5.77975473e+02 -5.92321837e+02\n",
      " -6.16433329e+03 -3.38785188e+03 -3.39056172e+03 -6.38468909e+02\n",
      " -6.20490127e+03 -6.45881139e+02 -3.44212854e+03 -3.44324438e+03\n",
      " -3.47408873e+03 -3.47743627e+03  0.00000000e+00  0.00000000e+00\n",
      "  0.00000000e+00  0.00000000e+00  0.00000000e+00  0.00000000e+00\n",
      " -3.52565556e+03 -3.52629321e+03 -8.00103324e+02 -3.59579278e+03\n",
      "  0.00000000e+00 -6.42591332e+03  0.00000000e+00  0.00000000e+00\n",
      " -8.77573117e+02 -6.44464305e+03  0.00000000e+00 -8.95426152e+02\n",
      "  0.00000000e+00 -3.71391022e+03 -9.51854741e+02 -9.71461283e+02\n",
      " -6.53167700e+03 -9.87082761e+02 -1.02828844e+03  0.00000000e+00\n",
      " -6.59456140e+03 -6.60970475e+03 -6.61361003e+03  0.00000000e+00\n",
      " -3.88781863e+03 -1.13190019e+03 -1.15118799e+03 -6.71905498e+03\n",
      " -6.73124928e+03 -4.00219019e+03  1.48972921e+04 -4.07073337e+03\n",
      " -1.30222211e+03 -6.87550871e+03 -4.10588168e+03  0.00000000e+00\n",
      "  0.00000000e+00 -4.11982939e+03  0.00000000e+00 -4.16278843e+03\n",
      " -1.38431449e+03 -6.95640574e+03 -4.18119950e+03 -1.40551507e+03\n",
      " -1.40798583e+03 -1.41157239e+03  0.00000000e+00 -4.19411116e+03\n",
      " -1.44688011e+03 -4.22838270e+03 -7.01578324e+03 -4.23890326e+03\n",
      " -7.02231871e+03 -4.25221344e+03 -7.04264259e+03 -7.07300885e+03\n",
      " -1.53526891e+03 -7.09819442e+03 -7.10457060e+03 -1.55551309e+03\n",
      " -7.19463314e+03  0.00000000e+00 -1.64940125e+03 -1.68829567e+03\n",
      "  0.00000000e+00 -1.69435290e+03 -1.69905526e+03 -7.26221993e+03\n",
      " -4.50064270e+03 -4.50271493e+03 -7.29115147e+03 -4.51586557e+03\n",
      " -4.51626411e+03 -7.29944043e+03 -1.75883133e+03 -4.54607245e+03\n",
      "  0.00000000e+00  0.00000000e+00  0.00000000e+00 -4.28500636e+04\n",
      "  8.21522955e-01  4.21262511e-01  2.79205146e+03]\n"
     ]
    }
   ],
   "source": [
    "#calculating the coefficiens\n",
    "print(regressor.coef_)"
   ]
  },
  {
   "cell_type": "code",
   "execution_count": 88,
   "id": "990df1ad",
   "metadata": {},
   "outputs": [
    {
     "name": "stdout",
     "output_type": "stream",
     "text": [
      "-81668.652877546\n"
     ]
    }
   ],
   "source": [
    "#calculating the Intercept\n",
    "print(regressor.intercept_)"
   ]
  },
  {
   "cell_type": "code",
   "execution_count": 90,
   "id": "ddf9d2f8",
   "metadata": {},
   "outputs": [
    {
     "data": {
      "text/plain": [
       "0.8629317146108413"
      ]
     },
     "execution_count": 90,
     "metadata": {},
     "output_type": "execute_result"
    }
   ],
   "source": [
    "#calculating the R squared value\n",
    "from sklearn.metrics import r2_score\n",
    "r2_score(y_test,y_pred)"
   ]
  },
  {
   "cell_type": "code",
   "execution_count": null,
   "id": "64147cd1",
   "metadata": {},
   "outputs": [],
   "source": []
  }
 ],
 "metadata": {
  "kernelspec": {
   "display_name": "Python 3 (ipykernel)",
   "language": "python",
   "name": "python3"
  },
  "language_info": {
   "codemirror_mode": {
    "name": "ipython",
    "version": 3
   },
   "file_extension": ".py",
   "mimetype": "text/x-python",
   "name": "python",
   "nbconvert_exporter": "python",
   "pygments_lexer": "ipython3",
   "version": "3.9.7"
  }
 },
 "nbformat": 4,
 "nbformat_minor": 5
}
